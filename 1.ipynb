

import pandas as pd
import numpy as np
import matplotlib.pyplot as plt
import seaborn as sns

#load DataSet from the Source
DataSetUrl = "http://bit.ly/w-data"

#reading the dataset
data = pd.read_csv(DataSetUrl)

data.head()

data.info()

%matplotlib inline

data.plot(x="Hours",y="Scores",style='o')
plt.title("Hours vs Scores")
plt.xlabel("Hours")
plt.ylabel("Scores")
plt.show()

x=data.iloc[:,:-1].values
y=data.iloc[:,1:].values

print(x)

print(y)

#now divided the data for training and testing the model
#import the train_test_split
from sklearn.model_selection import train_test_split

#splitting the data into x_train ,x_test, y_train, y_test
x_train,x_test,y_train,y_test=train_test_split(x,y,test_size=0.2)



Training the **Model** 

#import the LinearRegression
from sklearn.linear_model import LinearRegression

#creating an object for LinearRegression
regression=LinearRegression()

#fitting the model
regression.fit(x_train,y_train)

#plotting the regression line
line = regression.coef_*x+regression.intercept_

#plotting for test data
plt.scatter(x,y)
plt.plot(x,line)
plt.show()

## **Checking Prediction**

y_pred=regression.predict(x_test)

df=pd.DataFrame({'Actual':y_test.flatten(),'Predicted':y_pred.flatten()})
df

Evaluting the Model

from sklearn.metrics import mean_absolute_error
rmse=mean_absolute_error(y_test,y_pred)
print("The Mean Absolute Error:",rmse)



**Testing the value**


hours = np.array([9.25])
hours = hours.reshape(-1,1)
own_pred = regression.predict(hours)
print("No of Hours = {}".format(hours))
print("Predicted Score = {}".format(own_pred[0]))
